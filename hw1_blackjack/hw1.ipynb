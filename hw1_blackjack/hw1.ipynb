{
 "cells": [
  {
   "cell_type": "code",
   "execution_count": 1,
   "metadata": {},
   "outputs": [],
   "source": [
    "import sys\n",
    "import enum\n",
    "from collections import defaultdict\n",
    "from copy import deepcopy\n",
    "from typing import Optional\n",
    "\n",
    "import optuna\n",
    "import gym\n",
    "import numpy as np\n",
    "import seaborn as sns\n",
    "import matplotlib.pyplot as plt\n",
    "from tqdm import tqdm\n",
    "from joblib import Parallel, delayed\n",
    "from gym import spaces\n",
    "from gym.envs.toy_text.blackjack import (\n",
    "    BlackjackEnv, \n",
    "    cmp, \n",
    "    usable_ace, \n",
    "    sum_hand, \n",
    "    is_bust, \n",
    "    score, \n",
    "    is_natural,\n",
    ")\n",
    "\n",
    "\n",
    "plt.rcParams['figure.figsize'] = (10, 6)\n",
    "\n",
    "env = gym.make('Blackjack-v1')\n",
    "N_EPISODES = 500_000\n"
   ]
  },
  {
   "cell_type": "markdown",
   "metadata": {},
   "source": [
    "Rewards:\n",
    "- 0 - draw\n",
    "- -1 - lose\n",
    "- 1 - win"
   ]
  },
  {
   "cell_type": "markdown",
   "metadata": {},
   "source": [
    "# Utils"
   ]
  },
  {
   "cell_type": "code",
   "execution_count": 2,
   "metadata": {},
   "outputs": [],
   "source": [
    "def run_game_episode(env, policy, *args, **kwargs):\n",
    "    states, actions, rewards = [], [], []\n",
    "    (player_sum, dealer_card, usable_ace), _ = env.reset()\n",
    "    while True:\n",
    "        state = player_sum, dealer_card, usable_ace\n",
    "        states.append(state)\n",
    "        action = policy(env, state, *args, **kwargs)\n",
    "        actions.append(action)\n",
    "        (player_sum, dealer_card, usable_ace), reward, endgame, _, _ = env.step(action)\n",
    "        rewards.append(reward)\n",
    "        if endgame:\n",
    "            break\n",
    "    return states, actions, rewards\n",
    "\n",
    "\n",
    "def run_game_episode_with_cards_cnt(env, policy, *args, **kwargs):\n",
    "    states, actions, rewards = [], [], []\n",
    "    (player_sum, dealer_card, usable_ace, cards_cnt), _ = env.reset()\n",
    "    while True:\n",
    "        state = player_sum, dealer_card, usable_ace, cards_cnt\n",
    "        states.append(state)\n",
    "        action = policy(env, state, *args, **kwargs)\n",
    "        actions.append(action)\n",
    "        (player_sum, dealer_card, usable_ace, cards_cnt), reward, endgame, _, _ = env.step(action)\n",
    "        rewards.append(reward)\n",
    "        if endgame:\n",
    "            break\n",
    "    return states, actions, rewards\n",
    "\n",
    "\n",
    "def plot_avg_reward(rewards):\n",
    "    avg_rewards = [cs / (i + 1) for i, cs in enumerate(np.cumsum(rewards))]\n",
    "    plt.plot(avg_rewards)\n",
    "    plt.xlabel('Game episode')\n",
    "    plt.ylabel('Average reward')\n",
    "    plt.show()"
   ]
  },
  {
   "cell_type": "markdown",
   "metadata": {},
   "source": [
    "# Task 1\n",
    "Рассмотрим очень простую стратегию: \n",
    "1. говорить stand, если у нас на руках комбинация в 19, 20 или 21 очко, во всех остальных случаях говорить hit. Используйте методы Монте-Карло, чтобы оценить выигрыш от этой стратегии.\n",
    "2. Реализуйте метод обучения с подкреплением без модели (можно Q-обучение, но рекомендую попробовать и другие, например Monte Carlo control) для обучения стратегии в блекджеке, используя окружение BlackjackEnv из OpenAI Gym.\n",
    "3. Сколько выигрывает казино у вашей стратегии? Нарисуйте графики среднего дохода вашего метода (усреднённого по крайней мере по 100000 раздач, а лучше больше) по ходу обучения. Попробуйте подобрать оптимальные гиперпараметры.\n"
   ]
  },
  {
   "cell_type": "markdown",
   "metadata": {},
   "source": [
    "## 1 Simple polisy"
   ]
  },
  {
   "cell_type": "code",
   "execution_count": 3,
   "metadata": {},
   "outputs": [],
   "source": [
    "class Action:\n",
    "    STAND = 0\n",
    "    HIT = 1\n",
    "    DOUBLE = 2"
   ]
  },
  {
   "cell_type": "code",
   "execution_count": 4,
   "metadata": {},
   "outputs": [
    {
     "name": "stdout",
     "output_type": "stream",
     "text": [
      "Average reward after 500000 games: -0.194154\n"
     ]
    },
    {
     "data": {
      "image/png": "[encoded data removed]",
      "text/plain": [
       "<Figure size 720x432 with 1 Axes>"
      ]
     },
     "metadata": {
      "needs_background": "light"
     },
     "output_type": "display_data"
    }
   ],
   "source": [
    "def simple_polisy(env, state):\n",
    "    player_sum, dealer_card, usable_ace = state\n",
    "    action = Action.HIT if player_sum < 19 else Action.STAND\n",
    "    return action\n",
    "\n",
    "# average_reward = np.mean([run_game_episode(env, simple_polisy)[-1][-1] for _ in tqdm(range(N))])\n",
    "results = Parallel(n_jobs=-1)(delayed(run_game_episode)(env, simple_polisy) for _ in range(N_EPISODES))\n",
    "rewards = [r[-1][-1] for r in results]\n",
    "print(f\"Average reward after {N_EPISODES} games: {np.mean(rewards)}\")\n",
    "plot_avg_reward(rewards)"
   ]
  },
  {
   "cell_type": "markdown",
   "metadata": {},
   "source": [
    "## 1.2 Q-Learning"
   ]
  },
  {
   "cell_type": "code",
   "execution_count": 5,
   "metadata": {},
   "outputs": [],
   "source": [
    "def get_probas(Q_s, eps, n_actions):\n",
    "    policy_s = np.ones(n_actions) * eps / n_actions\n",
    "    best_action_idx = np.argmax(Q_s)\n",
    "    policy_s[best_action_idx] = 1 - eps + (eps / n_actions)\n",
    "    return policy_s\n",
    "\n",
    "\n",
    "def update_Q(env, states, actions, rewards, Q, alpha, gamma):\n",
    "    for state, action, reward in zip(states, actions, rewards):\n",
    "        first_occurence_idx = 0\n",
    "        for i, s in enumerate(states):\n",
    "            if s == state:\n",
    "                first_occurence_idx = i\n",
    "                break\n",
    "        G = sum(\n",
    "            [r * (gamma**i) for i, r in enumerate(rewards[first_occurence_idx:])]\n",
    "        )\n",
    "        Q[state][action] = Q[state][action] + alpha * (G - Q[state][action])\n",
    "    return Q\n",
    "\n",
    "\n",
    "def Q_policy(env, state, Q, eps, n_actions):\n",
    "    probas = get_probas(Q[state], eps, n_actions)\n",
    "    if state in Q:\n",
    "        action = np.random.choice(np.arange(n_actions), p=probas)\n",
    "    else:\n",
    "        action = env.action_space.sample()\n",
    "    return action\n",
    "\n",
    "\n",
    "def qlearning(env, n_episodes, run_episode, eps=0.1, gamma=1.0, alpha=0.001):\n",
    "    n_actions = env.action_space.n\n",
    "    Q = defaultdict(lambda: np.zeros(n_actions))\n",
    "    episodes_rewards = np.zeros(n_episodes)\n",
    "    for i in (pbar := tqdm(range(n_episodes))): \n",
    "        if (i + 1) % 1000 == 0:       \n",
    "            pbar.set_description(f\"Average reward: {episodes_rewards[:i].mean():.6f}\")\n",
    "        states, actions, rewards = run_episode(env, Q_policy, Q=Q, eps=eps, n_actions=n_actions)\n",
    "        episodes_rewards[i] = rewards[-1]\n",
    "        Q = update_Q(env, states, actions, rewards, Q, alpha, gamma)\n",
    "    \n",
    "    return episodes_rewards"
   ]
  },
  {
   "cell_type": "code",
   "execution_count": 6,
   "metadata": {},
   "outputs": [
    {
     "name": "stderr",
     "output_type": "stream",
     "text": [
      "Average reward: -0.104900: 100%|██████████| 500000/500000 [00:38<00:00, 13054.09it/s]\n"
     ]
    }
   ],
   "source": [
    "rewards = qlearning(env, N_EPISODES, run_game_episode, eps=0.1, gamma=1.0, alpha=0.001)"
   ]
  },
  {
   "cell_type": "code",
   "execution_count": 7,
   "metadata": {},
   "outputs": [
    {
     "data": {
      "image/png": "[encoded data removed]",
      "text/plain": [
       "<Figure size 720x432 with 1 Axes>"
      ]
     },
     "metadata": {
      "needs_background": "light"
     },
     "output_type": "display_data"
    }
   ],
   "source": [
    "plot_avg_reward(rewards)"
   ]
  },
  {
   "cell_type": "markdown",
   "metadata": {},
   "source": [
    "## 3 Hyperparameters optimization"
   ]
  },
  {
   "cell_type": "code",
   "execution_count": 8,
   "metadata": {},
   "outputs": [
    {
     "name": "stderr",
     "output_type": "stream",
     "text": [
      "\u001b[32m[I 2022-10-26 14:02:55,115]\u001b[0m A new study created in memory with name: no-name-a28dfd5a-cece-4794-bf0d-02b9da041282\u001b[0m\n",
      "Average reward: -0.185122: 100%|██████████| 100000/100000 [00:07<00:00, 12892.65it/s]\n",
      "\u001b[32m[I 2022-10-26 14:03:02,876]\u001b[0m Trial 0 finished with value: 0.18513 and parameters: {'eps': 0.2558530665417874, 'gamma': 0.5917791314209766, 'alpha': 0.639971983536858}. Best is trial 0 with value: 0.18513.\u001b[0m\n",
      "Average reward: -0.179782: 100%|██████████| 100000/100000 [00:07<00:00, 13042.20it/s]\n",
      "\u001b[32m[I 2022-10-26 14:03:10,545]\u001b[0m Trial 1 finished with value: 0.17979 and parameters: {'eps': 0.28234260328012367, 'gamma': 0.7319395667115997, 'alpha': 0.4808401261466603}. Best is trial 1 with value: 0.17979.\u001b[0m\n",
      "Average reward: -0.105361: 100%|██████████| 100000/100000 [00:08<00:00, 12429.01it/s]\n",
      "\u001b[32m[I 2022-10-26 14:03:18,593]\u001b[0m Trial 2 finished with value: 0.10537 and parameters: {'eps': 0.06617691313194644, 'gamma': 0.9270680236594832, 'alpha': 0.5382151835790357}. Best is trial 2 with value: 0.10537.\u001b[0m\n",
      "Average reward: -0.125721: 100%|██████████| 100000/100000 [00:08<00:00, 12448.71it/s]\n",
      "\u001b[32m[I 2022-10-26 14:03:26,627]\u001b[0m Trial 3 finished with value: 0.12572 and parameters: {'eps': 0.14563863161521742, 'gamma': 0.36095590530327293, 'alpha': 0.250807546377332}. Best is trial 2 with value: 0.10537.\u001b[0m\n",
      "Average reward: -0.086391: 100%|██████████| 100000/100000 [00:07<00:00, 12751.73it/s]\n",
      "\u001b[32m[I 2022-10-26 14:03:34,471]\u001b[0m Trial 4 finished with value: 0.0864 and parameters: {'eps': 0.06084302792763172, 'gamma': 0.8715145246490869, 'alpha': 0.0476161716269745}. Best is trial 4 with value: 0.0864.\u001b[0m\n",
      "Average reward: -0.086911: 100%|██████████| 100000/100000 [00:08<00:00, 12147.38it/s]\n",
      "\u001b[32m[I 2022-10-26 14:03:42,705]\u001b[0m Trial 5 finished with value: 0.08691 and parameters: {'eps': 0.010572503800794216, 'gamma': 0.7285449820630915, 'alpha': 0.8745104116493535}. Best is trial 4 with value: 0.0864.\u001b[0m\n",
      "Average reward: -0.111511: 100%|██████████| 100000/100000 [00:07<00:00, 12519.70it/s]\n",
      "\u001b[32m[I 2022-10-26 14:03:50,695]\u001b[0m Trial 6 finished with value: 0.11152 and parameters: {'eps': 0.07556592671236244, 'gamma': 0.6731716159741717, 'alpha': 0.4043192191918787}. Best is trial 4 with value: 0.0864.\u001b[0m\n",
      "Average reward: -0.134521: 100%|██████████| 100000/100000 [00:07<00:00, 12751.03it/s]\n",
      "\u001b[32m[I 2022-10-26 14:03:58,539]\u001b[0m Trial 7 finished with value: 0.13451 and parameters: {'eps': 0.17197598290516997, 'gamma': 0.3978185828466255, 'alpha': 0.224417631238992}. Best is trial 4 with value: 0.0864.\u001b[0m\n",
      "Average reward: -0.177322: 100%|██████████| 100000/100000 [00:07<00:00, 13468.11it/s]\n",
      "\u001b[32m[I 2022-10-26 14:04:05,966]\u001b[0m Trial 8 finished with value: 0.17732 and parameters: {'eps': 0.23093578576691803, 'gamma': 1.0577344066921972, 'alpha': 0.32601061484308835}. Best is trial 4 with value: 0.0864.\u001b[0m\n",
      "Average reward: -0.146111: 100%|██████████| 100000/100000 [00:07<00:00, 12830.58it/s]\n",
      "\u001b[32m[I 2022-10-26 14:04:13,762]\u001b[0m Trial 9 finished with value: 0.1461 and parameters: {'eps': 0.22021938526689858, 'gamma': 0.5860872301610804, 'alpha': 0.18011111305398123}. Best is trial 4 with value: 0.0864.\u001b[0m\n"
     ]
    },
    {
     "data": {
      "text/plain": [
       "{'eps': 0.06084302792763172,\n",
       " 'gamma': 0.8715145246490869,\n",
       " 'alpha': 0.0476161716269745}"
      ]
     },
     "execution_count": 8,
     "metadata": {},
     "output_type": "execute_result"
    }
   ],
   "source": [
    "def objective(trial):\n",
    "    eps = trial.suggest_float(\"eps\", 1e-3, 0.3)\n",
    "    gamma = trial.suggest_float(\"gamma\", 0.1, 1.1)\n",
    "    alpha = trial.suggest_float(\"alpha\", 1e-5, 0.9)\n",
    "\n",
    "    rewards = qlearning(env, 100_000, run_game_episode, eps=eps, gamma=gamma, alpha=alpha)\n",
    "    return -np.mean(rewards)\n",
    "\n",
    "opt_study = optuna.create_study()\n",
    "opt_study.optimize(objective, n_trials=10)\n",
    "\n",
    "opt_study.best_params"
   ]
  },
  {
   "cell_type": "code",
   "execution_count": 9,
   "metadata": {},
   "outputs": [
    {
     "name": "stderr",
     "output_type": "stream",
     "text": [
      "Average reward: -0.058580: 100%|██████████| 500000/500000 [00:39<00:00, 12654.13it/s]\n"
     ]
    }
   ],
   "source": [
    "best_params = {\n",
    "    'eps': 0.01892594518639367,\n",
    "    'gamma': 0.5005643028229018,\n",
    "    'alpha': 0.013700199111808453\n",
    " } # = opt_study.best_params.values()\n",
    "rewards = qlearning(env, N_EPISODES, run_game_episode, **best_params)"
   ]
  },
  {
   "cell_type": "code",
   "execution_count": 10,
   "metadata": {},
   "outputs": [
    {
     "data": {
      "image/png": "[encoded data removed]",
      "text/plain": [
       "<Figure size 720x432 with 1 Axes>"
      ]
     },
     "metadata": {
      "needs_background": "light"
     },
     "output_type": "display_data"
    }
   ],
   "source": [
    "plot_avg_reward(rewards)"
   ]
  },
  {
   "cell_type": "markdown",
   "metadata": {},
   "source": [
    "Не получилось даже выйти в 0"
   ]
  },
  {
   "cell_type": "markdown",
   "metadata": {},
   "source": [
    "# Task2\n",
    "В базовый блекджек, описанный в предыдущем разделе, обыграть казино вряд ли получится. Но, к счастью, на этом история не заканчивается. Описанные выше правила были упрощёнными, а на самом деле у игрока есть ещё и другие возможности. Реализовывать split может оказаться непросто, поэтому давайте ограничимся удвоением ставки. Итак, у игрока появляется дополнительное действие:\n",
    "- double — удвоить ставку; при этом больше действий делать нельзя, игроку выдаётся ровно одна дополнительная карта, а выигрыш или проигрыш удваивается.\n",
    "4. Реализуйте новый вариант блекджека на основе окружения BlackjackEnv из OpenAI Gym, в котором разрешено удвоение ставки.\n",
    "5. Реализуйте метод обучения с подкреплением без модели для этого варианта, постройте графики, аналогичные п.2.\n"
   ]
  },
  {
   "cell_type": "markdown",
   "metadata": {},
   "source": [
    "## 4 BlackJack with double bet"
   ]
  },
  {
   "cell_type": "code",
   "execution_count": 11,
   "metadata": {},
   "outputs": [],
   "source": [
    "class DoubleBetBlackJack:\n",
    "    def __init__(self, env) -> None:\n",
    "        self.env = deepcopy(env)\n",
    "        self.env.action_space = spaces.Discrete(3)\n",
    "        self.action_space = self.env.action_space\n",
    "\n",
    "    def reset(self):\n",
    "        return self.env.reset()\n",
    "\n",
    "    def step(self, action):\n",
    "        if action == Action.DOUBLE:\n",
    "            (player_sum, dealer_card, usable_ace), reward, endgame, info1, info2 = self.env.step(Action.HIT)\n",
    "            while not endgame:\n",
    "                (player_sum, dealer_card, usable_ace), reward, endgame, info1, info2 = self.env.step(Action.STAND)\n",
    "            return (player_sum, dealer_card, usable_ace), reward * 2, endgame, info1, info2\n",
    "        return self.env.step(action)"
   ]
  },
  {
   "cell_type": "code",
   "execution_count": 12,
   "metadata": {},
   "outputs": [],
   "source": [
    "env2 = DoubleBetBlackJack(env)"
   ]
  },
  {
   "cell_type": "markdown",
   "metadata": {},
   "source": [
    "## 5 Q-Learning with double bet blackjack"
   ]
  },
  {
   "cell_type": "code",
   "execution_count": 14,
   "metadata": {},
   "outputs": [
    {
     "name": "stderr",
     "output_type": "stream",
     "text": [
      "Average reward: -0.054954: 100%|██████████| 1000000/1000000 [01:20<00:00, 12486.29it/s]\n"
     ]
    },
    {
     "data": {
      "image/png": "[encoded data removed]",
      "text/plain": [
       "<Figure size 720x432 with 1 Axes>"
      ]
     },
     "metadata": {
      "needs_background": "light"
     },
     "output_type": "display_data"
    }
   ],
   "source": [
    "N_EPISODES = 1_000_000\n",
    "\n",
    "best_params = {\n",
    "    'eps': 0.01892594518639367,\n",
    "    'gamma': 0.5005643028229018,\n",
    "    'alpha': 0.013700199111808453\n",
    " }\n",
    "rewards = qlearning(env2, N_EPISODES, run_game_episode, **best_params)\n",
    "plot_avg_reward(rewards)"
   ]
  },
  {
   "cell_type": "code",
   "execution_count": 15,
   "metadata": {},
   "outputs": [
    {
     "name": "stderr",
     "output_type": "stream",
     "text": [
      "\u001b[32m[I 2022-10-26 14:20:46,768]\u001b[0m A new study created in memory with name: no-name-3460cb40-71b4-47ef-977a-569632232519\u001b[0m\n",
      "Average reward: -0.154260: 100%|██████████| 500000/500000 [00:39<00:00, 12699.11it/s]\n",
      "\u001b[32m[I 2022-10-26 14:21:26,146]\u001b[0m Trial 0 finished with value: 0.154262 and parameters: {'eps': 0.16417213900952593, 'gamma': 0.426327848431709, 'alpha': 0.6774860907224332}. Best is trial 0 with value: 0.154262.\u001b[0m\n",
      "Average reward: -0.089790: 100%|██████████| 500000/500000 [00:39<00:00, 12797.38it/s]\n",
      "\u001b[32m[I 2022-10-26 14:22:05,218]\u001b[0m Trial 1 finished with value: 0.089792 and parameters: {'eps': 0.03462626584460865, 'gamma': 0.9525510357617467, 'alpha': 0.448477831101232}. Best is trial 1 with value: 0.089792.\u001b[0m\n",
      "Average reward: -0.174366: 100%|██████████| 500000/500000 [00:38<00:00, 13076.99it/s]\n",
      "\u001b[32m[I 2022-10-26 14:22:43,456]\u001b[0m Trial 2 finished with value: 0.174364 and parameters: {'eps': 0.28455454201375785, 'gamma': 0.46867683717836817, 'alpha': 0.26784470600361376}. Best is trial 1 with value: 0.089792.\u001b[0m\n",
      "Average reward: -0.142954: 100%|██████████| 500000/500000 [00:38<00:00, 12843.78it/s]\n",
      "\u001b[32m[I 2022-10-26 14:23:22,387]\u001b[0m Trial 3 finished with value: 0.142956 and parameters: {'eps': 0.13848096757101935, 'gamma': 0.6477003001765723, 'alpha': 0.6747767023782862}. Best is trial 1 with value: 0.089792.\u001b[0m\n",
      "Average reward: -0.080510: 100%|██████████| 500000/500000 [00:39<00:00, 12810.29it/s]\n",
      "\u001b[32m[I 2022-10-26 14:24:01,420]\u001b[0m Trial 4 finished with value: 0.080512 and parameters: {'eps': 0.04998396165066528, 'gamma': 0.6583777552081488, 'alpha': 0.10037755486139636}. Best is trial 4 with value: 0.080512.\u001b[0m\n",
      "Average reward: -0.147642: 100%|██████████| 500000/500000 [00:38<00:00, 12977.30it/s]\n",
      "\u001b[32m[I 2022-10-26 14:24:39,951]\u001b[0m Trial 5 finished with value: 0.14764 and parameters: {'eps': 0.19392841004388447, 'gamma': 0.45368638924894633, 'alpha': 0.3591328229074446}. Best is trial 4 with value: 0.080512.\u001b[0m\n",
      "Average reward: -0.115764: 100%|██████████| 500000/500000 [00:39<00:00, 12544.19it/s]\n",
      "\u001b[32m[I 2022-10-26 14:25:19,812]\u001b[0m Trial 6 finished with value: 0.115762 and parameters: {'eps': 0.06601832929981671, 'gamma': 0.32295399168333294, 'alpha': 0.6762047871545226}. Best is trial 4 with value: 0.080512.\u001b[0m\n",
      "Average reward: -0.084644: 100%|██████████| 500000/500000 [00:39<00:00, 12731.38it/s]\n",
      "\u001b[32m[I 2022-10-26 14:25:59,087]\u001b[0m Trial 7 finished with value: 0.084642 and parameters: {'eps': 0.03867884019551614, 'gamma': 0.717439132651064, 'alpha': 0.24904309659015036}. Best is trial 4 with value: 0.080512.\u001b[0m\n",
      "Average reward: -0.138364: 100%|██████████| 500000/500000 [00:38<00:00, 13125.26it/s]\n",
      "\u001b[32m[I 2022-10-26 14:26:37,183]\u001b[0m Trial 8 finished with value: 0.138366 and parameters: {'eps': 0.21994264884283604, 'gamma': 0.5576940873802474, 'alpha': 0.08298457398417666}. Best is trial 4 with value: 0.080512.\u001b[0m\n",
      "Average reward: -0.136424: 100%|██████████| 500000/500000 [00:36<00:00, 13614.08it/s]\n",
      "\u001b[32m[I 2022-10-26 14:27:13,912]\u001b[0m Trial 9 finished with value: 0.136422 and parameters: {'eps': 0.16996505455967073, 'gamma': 1.0755564151186368, 'alpha': 0.14286368594855}. Best is trial 4 with value: 0.080512.\u001b[0m\n"
     ]
    },
    {
     "data": {
      "text/plain": [
       "{'eps': 0.04998396165066528,\n",
       " 'gamma': 0.6583777552081488,\n",
       " 'alpha': 0.10037755486139636}"
      ]
     },
     "execution_count": 15,
     "metadata": {},
     "output_type": "execute_result"
    }
   ],
   "source": [
    "def objective(trial):\n",
    "    eps = trial.suggest_float(\"eps\", 1e-3, 0.3)\n",
    "    gamma = trial.suggest_float(\"gamma\", 0.1, 1.1)\n",
    "    alpha = trial.suggest_float(\"alpha\", 1e-5, 0.9)\n",
    "\n",
    "    rewards = qlearning(env, 500_000, run_game_episode, eps=eps, gamma=gamma, alpha=alpha)\n",
    "    return -np.mean(rewards)\n",
    "\n",
    "opt_study = optuna.create_study()\n",
    "opt_study.optimize(objective, n_trials=10)\n",
    "\n",
    "opt_study.best_params"
   ]
  },
  {
   "cell_type": "code",
   "execution_count": 16,
   "metadata": {},
   "outputs": [
    {
     "name": "stderr",
     "output_type": "stream",
     "text": [
      "Average reward: -0.056784: 100%|██████████| 1000000/1000000 [01:17<00:00, 12841.29it/s]\n"
     ]
    },
    {
     "data": {
      "image/png": "[encoded data removed]",
      "text/plain": [
       "<Figure size 720x432 with 1 Axes>"
      ]
     },
     "metadata": {
      "needs_background": "light"
     },
     "output_type": "display_data"
    }
   ],
   "source": [
    "best_params = {\n",
    "    'eps': 0.008519110047084291,\n",
    "    'gamma': 0.8429176340858354,\n",
    "    'alpha': 0.040646866183075184\n",
    " }\n",
    "rewards = qlearning(env2, N_EPISODES, run_game_episode, **best_params)\n",
    "plot_avg_reward(rewards)"
   ]
  },
  {
   "cell_type": "markdown",
   "metadata": {},
   "source": [
    "# Task 3\n",
    "6. Реализуйте вариант окружения BlackjackEnv из предыдущей части (с удвоением), в котором игрок имеет возможность “считать карты” в колоде. Это можно сделать разными способами; возможно, вам поможет статья википедии о блекджеке (а возможно, и нет).\n",
    "7. Реализуйте метод обучения с подкреплением без модели для этого варианта, постройте графики, аналогичные п.2.\n"
   ]
  },
  {
   "cell_type": "code",
   "execution_count": 17,
   "metadata": {},
   "outputs": [],
   "source": [
    "def init_deck():\n",
    "    deck_count = {\n",
    "        i: 4 for i in range(1, 10)\n",
    "    }\n",
    "    deck_count.update({10: 16})\n",
    "    return deck_count\n",
    "\n",
    "\n",
    "class BlackjackWithCardsCount(BlackjackEnv):\n",
    "    def __init__(self):\n",
    "        super().__init__()\n",
    "        self.action_space = spaces.Discrete(3)\n",
    "        self.deck_count = init_deck()\n",
    "        self.deck_limit = 15\n",
    "        self.deck_scores = {i: 1 for i in range(2, 7)}\n",
    "        self.deck_scores.update({i: 0 for i in range(7, 10)})\n",
    "        self.deck_scores.update({10: -1, 1: -1})\n",
    "        self.counter = 0\n",
    "\n",
    "    def reset_deck(self):\n",
    "        if sum(self.deck_count.values()) < self.deck_limit:\n",
    "            self.deck_count = init_deck()\n",
    "            self.counter = 0\n",
    "\n",
    "    def draw_card(self):\n",
    "        self.reset_deck()\n",
    "        deck_cnt = {card: cnt for card, cnt in self.deck_count.items() if cnt > 0}\n",
    "        counts = list(deck_cnt.values())\n",
    "        cards = list(deck_cnt.keys())\n",
    "        probs = [count_ / sum(counts) for count_ in counts]\n",
    "        card = np.random.choice(cards, p=probs)\n",
    "        self.deck_count[card] -= 1\n",
    "        self.counter += self.deck_scores[card]\n",
    "        return card\n",
    "\n",
    "    def draw_hand(self):\n",
    "        return [self.draw_card(), self.draw_card()]\n",
    "\n",
    "    def _get_obs(self):\n",
    "        return (sum_hand(self.player), self.dealer[0], usable_ace(self.player), self.counter)\n",
    "\n",
    "    def step(self, action):\n",
    "        assert self.action_space.contains(action)\n",
    "        if action:  # hit: add a card to players hand and return\n",
    "            current_card = self.draw_card()\n",
    "            self.deck_count[current_card] -= 1\n",
    "            self.player.append(current_card)\n",
    "            if is_bust(self.player):\n",
    "                terminated = True\n",
    "                reward = -1.0\n",
    "            else:\n",
    "                terminated = False\n",
    "                reward = 0.0\n",
    "        else:  # stick: play out the dealers hand, and score\n",
    "            if action == 2:\n",
    "                current_card = self.draw_card()\n",
    "                self.deck_count[current_card] -= 1\n",
    "                self.player.append(current_card)\n",
    "            terminated = True\n",
    "            while sum_hand(self.dealer) < 17:\n",
    "                current_card = self.draw_card()\n",
    "                self.deck_count[current_card] -= 1\n",
    "                self.dealer.append(current_card)\n",
    "            reward = cmp(score(self.player), score(self.dealer))\n",
    "            if self.sab and is_natural(self.player) and not is_natural(self.dealer):\n",
    "                # Player automatically wins. Rules consistent with S&B\n",
    "                reward = 1.0\n",
    "            elif (\n",
    "                not self.sab\n",
    "                and self.natural\n",
    "                and is_natural(self.player)\n",
    "                and reward == 1.0\n",
    "            ):\n",
    "                # Natural gives extra points, but doesn't autowin. Legacy implementation\n",
    "                reward = 1.5\n",
    "            \n",
    "            if action == 2:\n",
    "                reward *= 2\n",
    "\n",
    "        if self.render_mode == \"human\":\n",
    "            self.render()\n",
    "        return self._get_obs(), reward, terminated, False, self.deck_count\n",
    "\n",
    "    def reset(self, seed: Optional[int] = None, options: Optional[dict] = None, ):\n",
    "        # reset deck\n",
    "        self.reset_deck()\n",
    "        \n",
    "        self.dealer = self.draw_hand()\n",
    "        self.player = self.draw_hand()\n",
    "\n",
    "        _, dealer_card_value, _, _ = self._get_obs()\n",
    "\n",
    "        suits = [\"C\", \"D\", \"H\", \"S\"]\n",
    "        self.dealer_top_card_suit = self.np_random.choice(suits)\n",
    "\n",
    "        if dealer_card_value == 1:\n",
    "            self.dealer_top_card_value_str = \"A\"\n",
    "        elif dealer_card_value == 10:\n",
    "            self.dealer_top_card_value_str = self.np_random.choice([\"J\", \"Q\", \"K\"])\n",
    "        else:\n",
    "            self.dealer_top_card_value_str = str(dealer_card_value)\n",
    "\n",
    "        if self.render_mode == \"human\":\n",
    "            self.render()\n",
    "        return self._get_obs(), self.deck_count"
   ]
  },
  {
   "cell_type": "code",
   "execution_count": 18,
   "metadata": {},
   "outputs": [],
   "source": [
    "env3 = BlackjackWithCardsCount()"
   ]
  },
  {
   "cell_type": "markdown",
   "metadata": {},
   "source": [
    "Система \"Плюс-Минус\"\n",
    "|Карты          |Числовые значения|\n",
    "|---------------|-----------------|\n",
    "|2, 3, 4, 5, 6\t|+1               |\n",
    "|7, 8, 9\t    |0                |\n",
    "|10, В, Д, К, Т\t|−1               |"
   ]
  },
  {
   "cell_type": "code",
   "execution_count": 19,
   "metadata": {},
   "outputs": [
    {
     "name": "stderr",
     "output_type": "stream",
     "text": [
      "Average reward: -0.070645: 100%|██████████| 1000000/1000000 [01:53<00:00, 8788.16it/s]\n"
     ]
    },
    {
     "data": {
      "image/png": "[encoded data removed]",
      "text/plain": [
       "<Figure size 720x432 with 1 Axes>"
      ]
     },
     "metadata": {
      "needs_background": "light"
     },
     "output_type": "display_data"
    }
   ],
   "source": [
    "best_params = {\n",
    "    'eps': 0.008519110047084291,\n",
    "    'gamma': 0.8429176340858354,\n",
    "    'alpha': 0.040646866183075184\n",
    " }\n",
    "rewards = qlearning(env3, N_EPISODES, run_game_episode_with_cards_cnt, **best_params)\n",
    "plot_avg_reward(rewards)"
   ]
  },
  {
   "cell_type": "code",
   "execution_count": 20,
   "metadata": {},
   "outputs": [
    {
     "name": "stderr",
     "output_type": "stream",
     "text": [
      "\u001b[32m[I 2022-10-26 14:30:26,395]\u001b[0m A new study created in memory with name: no-name-01208609-9c1a-4d0e-b0f0-4862be58bb88\u001b[0m\n",
      "Average reward: -0.132680: 100%|██████████| 500000/500000 [00:56<00:00, 8774.03it/s]\n",
      "\u001b[32m[I 2022-10-26 14:31:23,386]\u001b[0m Trial 0 finished with value: 0.132682 and parameters: {'eps': 0.10762593946241249, 'gamma': 0.778678232971899, 'alpha': 0.2385411512905142}. Best is trial 0 with value: 0.132682.\u001b[0m\n",
      "Average reward: -0.209318: 100%|██████████| 500000/500000 [00:57<00:00, 8697.19it/s]\n",
      "\u001b[32m[I 2022-10-26 14:32:20,879]\u001b[0m Trial 1 finished with value: 0.20932 and parameters: {'eps': 0.29082047219671264, 'gamma': 0.4892167700971789, 'alpha': 0.2436244801457434}. Best is trial 0 with value: 0.132682.\u001b[0m\n",
      "Average reward: -0.166778: 100%|██████████| 500000/500000 [00:57<00:00, 8717.12it/s]\n",
      "\u001b[32m[I 2022-10-26 14:33:18,240]\u001b[0m Trial 2 finished with value: 0.16678 and parameters: {'eps': 0.12988842940771617, 'gamma': 0.9622920975617844, 'alpha': 0.7924117963557832}. Best is trial 0 with value: 0.132682.\u001b[0m\n",
      "Average reward: -0.104664: 100%|██████████| 500000/500000 [00:55<00:00, 8968.88it/s]\n",
      "\u001b[32m[I 2022-10-26 14:34:13,991]\u001b[0m Trial 3 finished with value: 0.104662 and parameters: {'eps': 0.042242831819176145, 'gamma': 1.041737041880906, 'alpha': 0.17823297512845887}. Best is trial 3 with value: 0.104662.\u001b[0m\n",
      "Average reward: -0.085676: 100%|██████████| 500000/500000 [00:56<00:00, 8784.23it/s]\n",
      "\u001b[32m[I 2022-10-26 14:35:10,914]\u001b[0m Trial 4 finished with value: 0.085674 and parameters: {'eps': 0.03971210456817924, 'gamma': 0.221015078917195, 'alpha': 0.02269039108155716}. Best is trial 4 with value: 0.085674.\u001b[0m\n",
      "Average reward: -0.212376: 100%|██████████| 500000/500000 [03:36<00:00, 2310.78it/s]\n",
      "\u001b[32m[I 2022-10-26 14:38:47,295]\u001b[0m Trial 5 finished with value: 0.212378 and parameters: {'eps': 0.28578443028338474, 'gamma': 0.750506326585686, 'alpha': 0.27900337976225154}. Best is trial 4 with value: 0.085674.\u001b[0m\n",
      "Average reward: -0.121632: 100%|██████████| 500000/500000 [15:57<00:00, 522.42it/s] \n",
      "\u001b[32m[I 2022-10-26 14:54:44,388]\u001b[0m Trial 6 finished with value: 0.12163 and parameters: {'eps': 0.10768550231535882, 'gamma': 0.6988898219931157, 'alpha': 0.12257768125238347}. Best is trial 4 with value: 0.085674.\u001b[0m\n",
      "Average reward: -0.111164: 100%|██████████| 500000/500000 [15:56<00:00, 522.58it/s]  \n",
      "\u001b[32m[I 2022-10-26 15:10:41,177]\u001b[0m Trial 7 finished with value: 0.111162 and parameters: {'eps': 0.06556689389070004, 'gamma': 0.6171100127679664, 'alpha': 0.21871347647454406}. Best is trial 4 with value: 0.085674.\u001b[0m\n",
      "Average reward: -0.160414: 100%|██████████| 500000/500000 [03:16<00:00, 2551.02it/s]\n",
      "\u001b[32m[I 2022-10-26 15:13:57,180]\u001b[0m Trial 8 finished with value: 0.160416 and parameters: {'eps': 0.1931434600994921, 'gamma': 0.858679424891637, 'alpha': 0.13968545011755934}. Best is trial 4 with value: 0.085674.\u001b[0m\n",
      "Average reward: -0.122878: 100%|██████████| 500000/500000 [10:50<00:00, 768.78it/s]  \n",
      "\u001b[32m[I 2022-10-26 15:24:47,567]\u001b[0m Trial 9 finished with value: 0.12288 and parameters: {'eps': 0.12149708845709085, 'gamma': 0.4064439538934621, 'alpha': 0.11403727690725159}. Best is trial 4 with value: 0.085674.\u001b[0m\n"
     ]
    },
    {
     "data": {
      "text/plain": [
       "{'eps': 0.03971210456817924,\n",
       " 'gamma': 0.221015078917195,\n",
       " 'alpha': 0.02269039108155716}"
      ]
     },
     "execution_count": 20,
     "metadata": {},
     "output_type": "execute_result"
    }
   ],
   "source": [
    "def objective(trial):\n",
    "    eps = trial.suggest_float(\"eps\", 1e-3, 0.3)\n",
    "    gamma = trial.suggest_float(\"gamma\", 0.1, 1.1)\n",
    "    alpha = trial.suggest_float(\"alpha\", 1e-5, 0.9)\n",
    "\n",
    "    rewards = qlearning(env3, 500_000, run_game_episode_with_cards_cnt, eps=eps, gamma=gamma, alpha=alpha)\n",
    "    return -np.mean(rewards)\n",
    "\n",
    "opt_study = optuna.create_study()\n",
    "opt_study.optimize(objective, n_trials=10)\n",
    "best_params = opt_study.best_params\n",
    "best_params"
   ]
  },
  {
   "cell_type": "code",
   "execution_count": 21,
   "metadata": {},
   "outputs": [
    {
     "name": "stderr",
     "output_type": "stream",
     "text": [
      "Average reward: -0.075216: 100%|██████████| 1000000/1000000 [08:23<00:00, 1984.25it/s]\n"
     ]
    },
    {
     "data": {
      "image/png": "[encoded data removed]",
      "text/plain": [
       "<Figure size 720x432 with 1 Axes>"
      ]
     },
     "metadata": {
      "needs_background": "light"
     },
     "output_type": "display_data"
    }
   ],
   "source": [
    "rewards = qlearning(env3, N_EPISODES, run_game_episode_with_cards_cnt, **best_params)\n",
    "plot_avg_reward(rewards)"
   ]
  },
  {
   "cell_type": "code",
   "execution_count": null,
   "metadata": {},
   "outputs": [],
   "source": []
  }
 ],
 "metadata": {
  "kernelspec": {
   "display_name": "Python 3.9.10 ('made')",
   "language": "python",
   "name": "python3"
  },
  "language_info": {
   "codemirror_mode": {
    "name": "ipython",
    "version": 3
   },
   "file_extension": ".py",
   "mimetype": "text/x-python",
   "name": "python",
   "nbconvert_exporter": "python",
   "pygments_lexer": "ipython3",
   "version": "3.9.10"
  },
  "orig_nbformat": 4,
  "vscode": {
   "interpreter": {
    "hash": "86c658836fd1cd990cb7feace1b3fb4dfeb93dea87b3a33e91181f6d4506db52"
   }
  }
 },
 "nbformat": 4,
 "nbformat_minor": 2
}
